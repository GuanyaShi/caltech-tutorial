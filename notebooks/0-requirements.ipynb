{
 "cells": [
  {
   "cell_type": "markdown",
   "metadata": {},
   "source": [
    "# Installation instructions\n",
    "\n",
    "If you are new to Python or simply want a pain-free experience, I recommend you install the [Anaconda](https://www.anaconda.com/download/)) distribution. It comes with all you need shipped-in and ready to use!\n",
    "\n",
    "Once you have anaconda installed, you want to get either the [Jupyter Lab](http://jupyterlab.readthedocs.io/en/stable/), or the [Jupyter Notebook](http://jupyter.org/install.html). Typically, you can simply run:\n",
    "```bash\n",
    "conda install jupyterlab\n",
    "```\n",
    "\n",
    "For PyTorch, simply follow the [instructions](https://pytorch.org/). With conda, it should be something like:\n",
    "```bash\n",
    "conda install pytorch torchvision -c pytorch\n",
    "```\n",
    "\n",
    "Finally, to install TensorLy to get the latest version, you can clone the Github repository. In the command line, run:\n",
    "```bash\n",
    "git clone https://github.com/tensorly/tensorly\n",
    "cd tensorly\n",
    "pip install -e .\n",
    "```\n",
    "\n",
    "Or, if you have an issue during installation, you can also use conda:\n",
    "```bash\n",
    "conda install -c tensorly tensorly\n",
    "```\n",
    "\n",
    "Finally, you can install Scikit-Learn using pip. In the command line, just type:\n",
    "```bash\n",
    "pip install scikit-learn\n",
    "```\n",
    "\n",
    "# Checking whether you have the correct versions\n",
    "First, open a jupyter lab (just type jupyter lab in the command line and open the link that appears) . You can also run the code directly in Python or IPython but it's not as nice. Generally, if you are not already familiar with jupyter lab or jupyter notebook, I recommend you spend a little time exploring as it's a very useful tool, especially for data science.\n",
    "\n",
    "To check you have all you need, you can run the following:"
   ]
  },
  {
   "cell_type": "code",
   "execution_count": 1,
   "metadata": {},
   "outputs": [
    {
     "name": "stderr",
     "output_type": "stream",
     "text": [
      "Using numpy backend.\n"
     ]
    }
   ],
   "source": [
    "import torch\n",
    "import numpy as np\n",
    "import tensorly as tl\n",
    "import sklearn"
   ]
  },
  {
   "cell_type": "code",
   "execution_count": 2,
   "metadata": {},
   "outputs": [
    {
     "name": "stdout",
     "output_type": "stream",
     "text": [
      "PyTorch version: 0.4.1\n",
      "Tensorly version: 0.4.3\n"
     ]
    }
   ],
   "source": [
    "print('PyTorch version: {}'.format(torch.__version__))\n",
    "print('Tensorly version: {}'.format(tl.__version__))"
   ]
  },
  {
   "cell_type": "markdown",
   "metadata": {},
   "source": [
    "For pytorch, you should have version of at least 0.4.0"
   ]
  }
 ],
 "metadata": {
  "kernelspec": {
   "display_name": "Python 3",
   "language": "python",
   "name": "python3"
  },
  "language_info": {
   "codemirror_mode": {
    "name": "ipython",
    "version": 3
   },
   "file_extension": ".py",
   "mimetype": "text/x-python",
   "name": "python",
   "nbconvert_exporter": "python",
   "pygments_lexer": "ipython3",
   "version": "3.6.6"
  }
 },
 "nbformat": 4,
 "nbformat_minor": 2
}
